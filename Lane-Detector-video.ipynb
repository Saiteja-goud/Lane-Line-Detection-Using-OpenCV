{
 "cells": [
  {
   "cell_type": "code",
   "execution_count": 2,
   "metadata": {},
   "outputs": [],
   "source": [
    "import cv2\n",
    "import numpy as np"
   ]
  },
  {
   "cell_type": "code",
   "execution_count": 3,
   "metadata": {},
   "outputs": [],
   "source": [
    "# Canny Edge Detection\n",
    "\n",
    "def canny(img):\n",
    "    if img is None:\n",
    "        cap.release()\n",
    "        cv2.destroyAllWindows()\n",
    "        exit()\n",
    "    gray = cv2.cvtColor(img, cv2.COLOR_BGR2GRAY)\n",
    "    blur = cv2.GaussianBlur(gray, (5,5), cv2.BORDER_DEFAULT)\n",
    "    canny_img = cv2.Canny(blur, 50, 150)\n",
    "    return(canny_img)\n",
    "\n",
    "def region_of_interest(canny_img):\n",
    "    height = canny_img.shape[0]\n",
    "    width = canny_img.shape[1]\n",
    "    triangle = np.array([[\n",
    "        (200,height),\n",
    "        (width,height),\n",
    "        (800,420)\n",
    "    ]])\n",
    "    mask = np.zeros_like(canny_img)\n",
    "    cv2.fillPoly(mask, triangle, (255))\n",
    "    masked_image = cv2.bitwise_and(canny_img, mask)\n",
    "    return(masked_image)\n",
    "\n",
    "def houghLines(masked_image):\n",
    "    lines = cv2.HoughLinesP(masked_image, 2, np.pi/180, 100, np.array([]), minLineLength = 75, maxLineGap = 5)\n",
    "    return(lines)\n",
    "\n",
    "def display_lines(masked_image, lines):\n",
    "    line_image = np.zeros_like(masked_image)\n",
    "    line_image = cv2.cvtColor(line_image, cv2.COLOR_GRAY2RGB)\n",
    "    if lines is not None:\n",
    "        for line in lines:\n",
    "            x1, y1, x2, y2 = line.reshape(4)\n",
    "            cv2.line(line_image, (x1, y1), (x2, y2), (0,255,255), 10)\n",
    "    return(line_image)           \n",
    "\n",
    "def final_result(img,line_image):\n",
    "    final_image = cv2.addWeighted(img, 0.8, line_image, 2, 1)\n",
    "    return(final_image)\n"
   ]
  },
  {
   "cell_type": "code",
   "execution_count": 4,
   "metadata": {},
   "outputs": [],
   "source": [
    "cap = cv2.VideoCapture(\"test1_video.mp4\")\n",
    "\n",
    "while cap.isOpened():\n",
    "    _, frame = cap.read()\n",
    "    canny_image = canny(frame)\n",
    "    roi_image = region_of_interest(canny_image)\n",
    "    \n",
    "    lines = houghLines(roi_image)\n",
    "    line_image = display_lines(roi_image, lines)\n",
    "    combo_image = final_result(frame, line_image)\n",
    "    cv2.imshow(\"\",combo_image)\n",
    "    \n",
    "    if cv2.waitKey(25) & 0xFF == ord('q'):\n",
    "        break\n",
    "\n",
    "cap.release()\n",
    "cv2.destroyAllWindows()"
   ]
  },
  {
   "cell_type": "code",
   "execution_count": null,
   "metadata": {},
   "outputs": [],
   "source": []
  }
 ],
 "metadata": {
  "kernelspec": {
   "display_name": "Python 3",
   "language": "python",
   "name": "python3"
  },
  "language_info": {
   "codemirror_mode": {
    "name": "ipython",
    "version": 3
   },
   "file_extension": ".py",
   "mimetype": "text/x-python",
   "name": "python",
   "nbconvert_exporter": "python",
   "pygments_lexer": "ipython3",
   "version": "3.7.6"
  }
 },
 "nbformat": 4,
 "nbformat_minor": 4
}
